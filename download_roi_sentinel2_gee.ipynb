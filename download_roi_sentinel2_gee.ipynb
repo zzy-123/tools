{
 "cells": [
  {
   "cell_type": "code",
   "execution_count": 1,
   "metadata": {},
   "outputs": [],
   "source": [
    "import os\n",
    "os.environ['HTTP_PROXY'] = 'http://127.0.0.1:10809'\n",
    "os.environ['HTTPS_PROXY'] = 'http://127.0.0.1:10809'\n",
    "import ee\n",
    "import geemap\n",
    "# geemap.set_proxy(port=10809)\n",
    "ee.Authenticate(auth_mode='localhost')\n",
    "ee.Initialize(project='pv-global-2024')"
   ]
  },
  {
   "cell_type": "code",
   "execution_count": 2,
   "metadata": {},
   "outputs": [
    {
     "data": {
      "text/html": [
       "\n",
       "            <style>\n",
       "                .geemap-dark {\n",
       "                    --jp-widgets-color: white;\n",
       "                    --jp-widgets-label-color: white;\n",
       "                    --jp-ui-font-color1: white;\n",
       "                    --jp-layout-color2: #454545;\n",
       "                    background-color: #383838;\n",
       "                }\n",
       "                    \n",
       "                .geemap-dark .jupyter-button {\n",
       "                    --jp-layout-color3: #383838;\n",
       "                }\n",
       "                \n",
       "                .geemap-colab {\n",
       "                    background-color: var(--colab-primary-surface-color, white);\n",
       "                }\n",
       "                    \n",
       "                .geemap-colab .jupyter-button {\n",
       "                    --jp-layout-color3: var(--colab-primary-surface-color, white);\n",
       "                }\n",
       "            </style>\n",
       "            "
      ],
      "text/plain": [
       "<IPython.core.display.HTML object>"
      ]
     },
     "metadata": {},
     "output_type": "display_data"
    }
   ],
   "source": [
    "Map = geemap.Map()\n",
    "# Map\n",
    "# roi_tiles = r'pv_roi_1_grid.shp' \n",
    "# roi_tiles_ee = geemap.shp_to_ee(roi_tiles)\n",
    "\n",
    "region = ee.Geometry.BBox(100.000, 35.700, 101.000, 36.700)\n",
    "Map.centerObject(region)"
   ]
  },
  {
   "cell_type": "code",
   "execution_count": 3,
   "metadata": {},
   "outputs": [
    {
     "data": {
      "text/html": [
       "\n",
       "            <style>\n",
       "                .geemap-dark {\n",
       "                    --jp-widgets-color: white;\n",
       "                    --jp-widgets-label-color: white;\n",
       "                    --jp-ui-font-color1: white;\n",
       "                    --jp-layout-color2: #454545;\n",
       "                    background-color: #383838;\n",
       "                }\n",
       "                    \n",
       "                .geemap-dark .jupyter-button {\n",
       "                    --jp-layout-color3: #383838;\n",
       "                }\n",
       "                \n",
       "                .geemap-colab {\n",
       "                    background-color: var(--colab-primary-surface-color, white);\n",
       "                }\n",
       "                    \n",
       "                .geemap-colab .jupyter-button {\n",
       "                    --jp-layout-color3: var(--colab-primary-surface-color, white);\n",
       "                }\n",
       "            </style>\n",
       "            "
      ],
      "text/plain": [
       "<IPython.core.display.HTML object>"
      ]
     },
     "metadata": {},
     "output_type": "display_data"
    }
   ],
   "source": [
    "# 去云\n",
    "def maskS2clouds(image):\n",
    "    qa = image.select('QA60')\n",
    "    # Bits 10 and 11 are clouds and cirrus, respectively.\n",
    "    cloudBitMask = 1 << 10\n",
    "    cirrusBitMask = 1 << 11\n",
    "    # Both flags should be set to zero, indicating clear conditions.\n",
    "    mask = qa.bitwiseAnd(cloudBitMask).eq(0)and(qa.bitwiseAnd(cirrusBitMask).eq(0))\n",
    "    return image.updateMask(mask).divide(10000)\n",
    "\n",
    "\n",
    "# 按条件筛选影像\n",
    "s2_dataset = ee.ImageCollection(\"COPERNICUS/S2_SR\")\n",
    "s2_images = s2_dataset.filterBounds(region).filterDate('2023-01-01', '2023-12-31').filter(ee.Filter.lt('CLOUDY_PIXEL_PERCENTAGE', 10)).map(maskS2clouds).select('B2','B3','B4').median().clip(region)\n",
    "s2_images = s2_images.multiply(255).uint8()\n",
    "# print(s2_images)\n",
    "# s2_vis = {\"bands\": [\"B4\", \"B3\", \"B2\"], \"gamma\": 3}\n",
    "# Map.addLayer(s2_images, s2_vis, \"S2_SR/2023\", True, 1)\n",
    "# Map"
   ]
  },
  {
   "cell_type": "code",
   "execution_count": 4,
   "metadata": {},
   "outputs": [
    {
     "data": {
      "text/html": [
       "\n",
       "            <style>\n",
       "                .geemap-dark {\n",
       "                    --jp-widgets-color: white;\n",
       "                    --jp-widgets-label-color: white;\n",
       "                    --jp-ui-font-color1: white;\n",
       "                    --jp-layout-color2: #454545;\n",
       "                    background-color: #383838;\n",
       "                }\n",
       "                    \n",
       "                .geemap-dark .jupyter-button {\n",
       "                    --jp-layout-color3: #383838;\n",
       "                }\n",
       "                \n",
       "                .geemap-colab {\n",
       "                    background-color: var(--colab-primary-surface-color, white);\n",
       "                }\n",
       "                    \n",
       "                .geemap-colab .jupyter-button {\n",
       "                    --jp-layout-color3: var(--colab-primary-surface-color, white);\n",
       "                }\n",
       "            </style>\n",
       "            "
      ],
      "text/plain": [
       "<IPython.core.display.HTML object>"
      ]
     },
     "metadata": {},
     "output_type": "display_data"
    },
    {
     "name": "stdout",
     "output_type": "stream",
     "text": [
      "Downloading 1/121: E:/test/sentinel2_2023_001.tif\n"
     ]
    },
    {
     "data": {
      "application/vnd.jupyter.widget-view+json": {
       "model_id": "a973ceffd17e426f9c280fa0013ad140",
       "version_major": 2,
       "version_minor": 0
      },
      "text/plain": [
       "sentinel2_2023_001.tif: |          | 0.00/3.73M (raw) [  0.0%] in 00:00 (eta:     ?)"
      ]
     },
     "metadata": {},
     "output_type": "display_data"
    },
    {
     "name": "stderr",
     "output_type": "stream",
     "text": [
      "There is no STAC entry for: None\n"
     ]
    },
    {
     "name": "stdout",
     "output_type": "stream",
     "text": [
      "Downloading 2/121: E:/test/sentinel2_2023_002.tif\n"
     ]
    },
    {
     "data": {
      "application/vnd.jupyter.widget-view+json": {
       "model_id": "b90dcc8415204af89db9460b8d3d0672",
       "version_major": 2,
       "version_minor": 0
      },
      "text/plain": [
       "sentinel2_2023_002.tif: |          | 0.00/3.72M (raw) [  0.0%] in 00:00 (eta:     ?)"
      ]
     },
     "metadata": {},
     "output_type": "display_data"
    },
    {
     "name": "stdout",
     "output_type": "stream",
     "text": [
      "Downloading 3/121: E:/test/sentinel2_2023_003.tif\n"
     ]
    },
    {
     "data": {
      "application/vnd.jupyter.widget-view+json": {
       "model_id": "96180731d5d946929fddc790a4929dca",
       "version_major": 2,
       "version_minor": 0
      },
      "text/plain": [
       "sentinel2_2023_003.tif: |          | 0.00/3.72M (raw) [  0.0%] in 00:00 (eta:     ?)"
      ]
     },
     "metadata": {},
     "output_type": "display_data"
    },
    {
     "name": "stdout",
     "output_type": "stream",
     "text": [
      "Downloading 4/121: E:/test/sentinel2_2023_004.tif\n"
     ]
    },
    {
     "data": {
      "application/vnd.jupyter.widget-view+json": {
       "model_id": "7d0400c0ce6a4df384172bf7c5413ee5",
       "version_major": 2,
       "version_minor": 0
      },
      "text/plain": [
       "sentinel2_2023_004.tif: |          | 0.00/3.72M (raw) [  0.0%] in 00:00 (eta:     ?)"
      ]
     },
     "metadata": {},
     "output_type": "display_data"
    },
    {
     "name": "stdout",
     "output_type": "stream",
     "text": [
      "Downloading 5/121: E:/test/sentinel2_2023_005.tif\n"
     ]
    },
    {
     "data": {
      "application/vnd.jupyter.widget-view+json": {
       "model_id": "1ce9906246904579a1dea921d3126540",
       "version_major": 2,
       "version_minor": 0
      },
      "text/plain": [
       "sentinel2_2023_005.tif: |          | 0.00/3.72M (raw) [  0.0%] in 00:00 (eta:     ?)"
      ]
     },
     "metadata": {},
     "output_type": "display_data"
    },
    {
     "name": "stdout",
     "output_type": "stream",
     "text": [
      "Downloading 6/121: E:/test/sentinel2_2023_006.tif\n"
     ]
    },
    {
     "data": {
      "application/vnd.jupyter.widget-view+json": {
       "model_id": "59dcf5397c12474e94dd65ad49889397",
       "version_major": 2,
       "version_minor": 0
      },
      "text/plain": [
       "sentinel2_2023_006.tif: |          | 0.00/3.73M (raw) [  0.0%] in 00:00 (eta:     ?)"
      ]
     },
     "metadata": {},
     "output_type": "display_data"
    },
    {
     "name": "stdout",
     "output_type": "stream",
     "text": [
      "Downloading 7/121: E:/test/sentinel2_2023_007.tif\n"
     ]
    },
    {
     "data": {
      "application/vnd.jupyter.widget-view+json": {
       "model_id": "1e9cd6c4e5724484bbfc4dc2fbd4bd58",
       "version_major": 2,
       "version_minor": 0
      },
      "text/plain": [
       "sentinel2_2023_007.tif: |          | 0.00/3.72M (raw) [  0.0%] in 00:00 (eta:     ?)"
      ]
     },
     "metadata": {},
     "output_type": "display_data"
    },
    {
     "name": "stdout",
     "output_type": "stream",
     "text": [
      "Downloading 8/121: E:/test/sentinel2_2023_008.tif\n"
     ]
    },
    {
     "data": {
      "application/vnd.jupyter.widget-view+json": {
       "model_id": "43039b1e40c344cfb824dcae3e0ccbf8",
       "version_major": 2,
       "version_minor": 0
      },
      "text/plain": [
       "sentinel2_2023_008.tif: |          | 0.00/3.72M (raw) [  0.0%] in 00:00 (eta:     ?)"
      ]
     },
     "metadata": {},
     "output_type": "display_data"
    },
    {
     "name": "stdout",
     "output_type": "stream",
     "text": [
      "Downloading 9/121: E:/test/sentinel2_2023_009.tif\n"
     ]
    },
    {
     "data": {
      "application/vnd.jupyter.widget-view+json": {
       "model_id": "68457dc0e3ce4a3c9f5ea255fbcc0254",
       "version_major": 2,
       "version_minor": 0
      },
      "text/plain": [
       "sentinel2_2023_009.tif: |          | 0.00/3.72M (raw) [  0.0%] in 00:00 (eta:     ?)"
      ]
     },
     "metadata": {},
     "output_type": "display_data"
    },
    {
     "name": "stdout",
     "output_type": "stream",
     "text": [
      "Downloading 10/121: E:/test/sentinel2_2023_010.tif\n"
     ]
    },
    {
     "data": {
      "application/vnd.jupyter.widget-view+json": {
       "model_id": "b5d04534b8594598b18b07e708566292",
       "version_major": 2,
       "version_minor": 0
      },
      "text/plain": [
       "sentinel2_2023_010.tif: |          | 0.00/3.72M (raw) [  0.0%] in 00:00 (eta:     ?)"
      ]
     },
     "metadata": {},
     "output_type": "display_data"
    },
    {
     "name": "stdout",
     "output_type": "stream",
     "text": [
      "Downloading 11/121: E:/test/sentinel2_2023_011.tif\n"
     ]
    },
    {
     "data": {
      "application/vnd.jupyter.widget-view+json": {
       "model_id": "2d8c15151be64dffbac8a1254d2bf9f3",
       "version_major": 2,
       "version_minor": 0
      },
      "text/plain": [
       "sentinel2_2023_011.tif: |          | 0.00/3.73M (raw) [  0.0%] in 00:00 (eta:     ?)"
      ]
     },
     "metadata": {},
     "output_type": "display_data"
    },
    {
     "name": "stdout",
     "output_type": "stream",
     "text": [
      "Downloading 12/121: E:/test/sentinel2_2023_012.tif\n"
     ]
    },
    {
     "data": {
      "application/vnd.jupyter.widget-view+json": {
       "model_id": "90ada49a1db1445eaa4cb4bc8b5d69d9",
       "version_major": 2,
       "version_minor": 0
      },
      "text/plain": [
       "sentinel2_2023_012.tif: |          | 0.00/3.73M (raw) [  0.0%] in 00:00 (eta:     ?)"
      ]
     },
     "metadata": {},
     "output_type": "display_data"
    },
    {
     "name": "stdout",
     "output_type": "stream",
     "text": [
      "Downloading 13/121: E:/test/sentinel2_2023_013.tif\n"
     ]
    },
    {
     "data": {
      "application/vnd.jupyter.widget-view+json": {
       "model_id": "ed073c9546c3429bbdba385b5e61f60f",
       "version_major": 2,
       "version_minor": 0
      },
      "text/plain": [
       "sentinel2_2023_013.tif: |          | 0.00/3.72M (raw) [  0.0%] in 00:00 (eta:     ?)"
      ]
     },
     "metadata": {},
     "output_type": "display_data"
    },
    {
     "name": "stdout",
     "output_type": "stream",
     "text": [
      "Downloading 14/121: E:/test/sentinel2_2023_014.tif\n"
     ]
    },
    {
     "data": {
      "application/vnd.jupyter.widget-view+json": {
       "model_id": "abf9dff02c044dd6bc73da76aecf077b",
       "version_major": 2,
       "version_minor": 0
      },
      "text/plain": [
       "sentinel2_2023_014.tif: |          | 0.00/3.72M (raw) [  0.0%] in 00:00 (eta:     ?)"
      ]
     },
     "metadata": {},
     "output_type": "display_data"
    },
    {
     "name": "stdout",
     "output_type": "stream",
     "text": [
      "Downloading 15/121: E:/test/sentinel2_2023_015.tif\n"
     ]
    },
    {
     "data": {
      "application/vnd.jupyter.widget-view+json": {
       "model_id": "0491c77bd3ad4a769d441d11f8cbb28d",
       "version_major": 2,
       "version_minor": 0
      },
      "text/plain": [
       "sentinel2_2023_015.tif: |          | 0.00/3.72M (raw) [  0.0%] in 00:00 (eta:     ?)"
      ]
     },
     "metadata": {},
     "output_type": "display_data"
    },
    {
     "name": "stdout",
     "output_type": "stream",
     "text": [
      "Downloading 16/121: E:/test/sentinel2_2023_016.tif\n"
     ]
    },
    {
     "data": {
      "application/vnd.jupyter.widget-view+json": {
       "model_id": "418bc02cd9284645a6645dde21637b7f",
       "version_major": 2,
       "version_minor": 0
      },
      "text/plain": [
       "sentinel2_2023_016.tif: |          | 0.00/3.72M (raw) [  0.0%] in 00:00 (eta:     ?)"
      ]
     },
     "metadata": {},
     "output_type": "display_data"
    },
    {
     "name": "stdout",
     "output_type": "stream",
     "text": [
      "Downloading 17/121: E:/test/sentinel2_2023_017.tif\n"
     ]
    },
    {
     "data": {
      "application/vnd.jupyter.widget-view+json": {
       "model_id": "6e21db796f0d4a728b8fec239ab2cc21",
       "version_major": 2,
       "version_minor": 0
      },
      "text/plain": [
       "sentinel2_2023_017.tif: |          | 0.00/3.73M (raw) [  0.0%] in 00:00 (eta:     ?)"
      ]
     },
     "metadata": {},
     "output_type": "display_data"
    },
    {
     "name": "stdout",
     "output_type": "stream",
     "text": [
      "Downloading 18/121: E:/test/sentinel2_2023_018.tif\n"
     ]
    },
    {
     "data": {
      "application/vnd.jupyter.widget-view+json": {
       "model_id": "7c6d45102a854f39a15a74dc183385a4",
       "version_major": 2,
       "version_minor": 0
      },
      "text/plain": [
       "sentinel2_2023_018.tif: |          | 0.00/3.72M (raw) [  0.0%] in 00:00 (eta:     ?)"
      ]
     },
     "metadata": {},
     "output_type": "display_data"
    },
    {
     "name": "stdout",
     "output_type": "stream",
     "text": [
      "Downloading 19/121: E:/test/sentinel2_2023_019.tif\n"
     ]
    },
    {
     "data": {
      "application/vnd.jupyter.widget-view+json": {
       "model_id": "3258e2ccc4514cdeb2f7a0c2742cec13",
       "version_major": 2,
       "version_minor": 0
      },
      "text/plain": [
       "sentinel2_2023_019.tif: |          | 0.00/3.72M (raw) [  0.0%] in 00:00 (eta:     ?)"
      ]
     },
     "metadata": {},
     "output_type": "display_data"
    },
    {
     "name": "stdout",
     "output_type": "stream",
     "text": [
      "Downloading 20/121: E:/test/sentinel2_2023_020.tif\n"
     ]
    },
    {
     "data": {
      "application/vnd.jupyter.widget-view+json": {
       "model_id": "b0ae1cde5d0a48fbb50d8aa0c51bb315",
       "version_major": 2,
       "version_minor": 0
      },
      "text/plain": [
       "sentinel2_2023_020.tif: |          | 0.00/3.72M (raw) [  0.0%] in 00:00 (eta:     ?)"
      ]
     },
     "metadata": {},
     "output_type": "display_data"
    },
    {
     "name": "stdout",
     "output_type": "stream",
     "text": [
      "Downloading 21/121: E:/test/sentinel2_2023_021.tif\n"
     ]
    },
    {
     "data": {
      "application/vnd.jupyter.widget-view+json": {
       "model_id": "82f02344cd634c63ad0368340cff3823",
       "version_major": 2,
       "version_minor": 0
      },
      "text/plain": [
       "sentinel2_2023_021.tif: |          | 0.00/3.72M (raw) [  0.0%] in 00:00 (eta:     ?)"
      ]
     },
     "metadata": {},
     "output_type": "display_data"
    },
    {
     "name": "stdout",
     "output_type": "stream",
     "text": [
      "Downloading 22/121: E:/test/sentinel2_2023_022.tif\n"
     ]
    },
    {
     "data": {
      "application/vnd.jupyter.widget-view+json": {
       "model_id": "ac4086ff60ed4bda9b9e11eb66fb7f28",
       "version_major": 2,
       "version_minor": 0
      },
      "text/plain": [
       "sentinel2_2023_022.tif: |          | 0.00/3.73M (raw) [  0.0%] in 00:00 (eta:     ?)"
      ]
     },
     "metadata": {},
     "output_type": "display_data"
    },
    {
     "name": "stdout",
     "output_type": "stream",
     "text": [
      "Downloading 23/121: E:/test/sentinel2_2023_023.tif\n"
     ]
    },
    {
     "data": {
      "application/vnd.jupyter.widget-view+json": {
       "model_id": "2060eef49e73481bb16900ee32c4d346",
       "version_major": 2,
       "version_minor": 0
      },
      "text/plain": [
       "sentinel2_2023_023.tif: |          | 0.00/3.73M (raw) [  0.0%] in 00:00 (eta:     ?)"
      ]
     },
     "metadata": {},
     "output_type": "display_data"
    },
    {
     "name": "stdout",
     "output_type": "stream",
     "text": [
      "Downloading 24/121: E:/test/sentinel2_2023_024.tif\n"
     ]
    },
    {
     "data": {
      "application/vnd.jupyter.widget-view+json": {
       "model_id": "690f49faab29460b9acabd2f8531e70e",
       "version_major": 2,
       "version_minor": 0
      },
      "text/plain": [
       "sentinel2_2023_024.tif: |          | 0.00/3.73M (raw) [  0.0%] in 00:00 (eta:     ?)"
      ]
     },
     "metadata": {},
     "output_type": "display_data"
    },
    {
     "name": "stdout",
     "output_type": "stream",
     "text": [
      "Downloading 25/121: E:/test/sentinel2_2023_025.tif\n"
     ]
    },
    {
     "data": {
      "application/vnd.jupyter.widget-view+json": {
       "model_id": "7286018f53794eddbc5f51a7e032d2fe",
       "version_major": 2,
       "version_minor": 0
      },
      "text/plain": [
       "sentinel2_2023_025.tif: |          | 0.00/3.73M (raw) [  0.0%] in 00:00 (eta:     ?)"
      ]
     },
     "metadata": {},
     "output_type": "display_data"
    },
    {
     "name": "stdout",
     "output_type": "stream",
     "text": [
      "Downloading 26/121: E:/test/sentinel2_2023_026.tif\n"
     ]
    },
    {
     "data": {
      "application/vnd.jupyter.widget-view+json": {
       "model_id": "feece19719624290ac176b2edad97261",
       "version_major": 2,
       "version_minor": 0
      },
      "text/plain": [
       "sentinel2_2023_026.tif: |          | 0.00/3.73M (raw) [  0.0%] in 00:00 (eta:     ?)"
      ]
     },
     "metadata": {},
     "output_type": "display_data"
    },
    {
     "name": "stdout",
     "output_type": "stream",
     "text": [
      "Downloading 27/121: E:/test/sentinel2_2023_027.tif\n"
     ]
    },
    {
     "data": {
      "application/vnd.jupyter.widget-view+json": {
       "model_id": "6e62d29d093642f5b12a2f88f079b846",
       "version_major": 2,
       "version_minor": 0
      },
      "text/plain": [
       "sentinel2_2023_027.tif: |          | 0.00/3.73M (raw) [  0.0%] in 00:00 (eta:     ?)"
      ]
     },
     "metadata": {},
     "output_type": "display_data"
    },
    {
     "name": "stdout",
     "output_type": "stream",
     "text": [
      "Downloading 28/121: E:/test/sentinel2_2023_028.tif\n"
     ]
    },
    {
     "data": {
      "application/vnd.jupyter.widget-view+json": {
       "model_id": "75331947cdfa4a9e83de7465bf2ab675",
       "version_major": 2,
       "version_minor": 0
      },
      "text/plain": [
       "sentinel2_2023_028.tif: |          | 0.00/3.73M (raw) [  0.0%] in 00:00 (eta:     ?)"
      ]
     },
     "metadata": {},
     "output_type": "display_data"
    },
    {
     "name": "stdout",
     "output_type": "stream",
     "text": [
      "Downloading 29/121: E:/test/sentinel2_2023_029.tif\n"
     ]
    },
    {
     "data": {
      "application/vnd.jupyter.widget-view+json": {
       "model_id": "c8e51ff1d6ce46dfbef0347892f6772a",
       "version_major": 2,
       "version_minor": 0
      },
      "text/plain": [
       "sentinel2_2023_029.tif: |          | 0.00/3.73M (raw) [  0.0%] in 00:00 (eta:     ?)"
      ]
     },
     "metadata": {},
     "output_type": "display_data"
    },
    {
     "name": "stdout",
     "output_type": "stream",
     "text": [
      "Downloading 30/121: E:/test/sentinel2_2023_030.tif\n"
     ]
    },
    {
     "data": {
      "application/vnd.jupyter.widget-view+json": {
       "model_id": "7f7a2e58216243cdb7f4e27d6acbadca",
       "version_major": 2,
       "version_minor": 0
      },
      "text/plain": [
       "sentinel2_2023_030.tif: |          | 0.00/3.73M (raw) [  0.0%] in 00:00 (eta:     ?)"
      ]
     },
     "metadata": {},
     "output_type": "display_data"
    },
    {
     "name": "stdout",
     "output_type": "stream",
     "text": [
      "Downloading 31/121: E:/test/sentinel2_2023_031.tif\n"
     ]
    },
    {
     "data": {
      "application/vnd.jupyter.widget-view+json": {
       "model_id": "bf46cc8f154f4b2fa1c5e830bcd4ce15",
       "version_major": 2,
       "version_minor": 0
      },
      "text/plain": [
       "sentinel2_2023_031.tif: |          | 0.00/3.73M (raw) [  0.0%] in 00:00 (eta:     ?)"
      ]
     },
     "metadata": {},
     "output_type": "display_data"
    },
    {
     "name": "stdout",
     "output_type": "stream",
     "text": [
      "Downloading 32/121: E:/test/sentinel2_2023_032.tif\n"
     ]
    },
    {
     "data": {
      "application/vnd.jupyter.widget-view+json": {
       "model_id": "46fb90a9e2f34c7f823680078c25c440",
       "version_major": 2,
       "version_minor": 0
      },
      "text/plain": [
       "sentinel2_2023_032.tif: |          | 0.00/3.73M (raw) [  0.0%] in 00:00 (eta:     ?)"
      ]
     },
     "metadata": {},
     "output_type": "display_data"
    },
    {
     "name": "stdout",
     "output_type": "stream",
     "text": [
      "Downloading 33/121: E:/test/sentinel2_2023_033.tif\n"
     ]
    },
    {
     "data": {
      "application/vnd.jupyter.widget-view+json": {
       "model_id": "b361f6407ad046018acb59342042ab0f",
       "version_major": 2,
       "version_minor": 0
      },
      "text/plain": [
       "sentinel2_2023_033.tif: |          | 0.00/3.73M (raw) [  0.0%] in 00:00 (eta:     ?)"
      ]
     },
     "metadata": {},
     "output_type": "display_data"
    },
    {
     "name": "stdout",
     "output_type": "stream",
     "text": [
      "Downloading 34/121: E:/test/sentinel2_2023_034.tif\n"
     ]
    },
    {
     "data": {
      "application/vnd.jupyter.widget-view+json": {
       "model_id": "a98c065652d54d589d0e77264b9da3aa",
       "version_major": 2,
       "version_minor": 0
      },
      "text/plain": [
       "sentinel2_2023_034.tif: |          | 0.00/3.73M (raw) [  0.0%] in 00:00 (eta:     ?)"
      ]
     },
     "metadata": {},
     "output_type": "display_data"
    },
    {
     "name": "stdout",
     "output_type": "stream",
     "text": [
      "Downloading 35/121: E:/test/sentinel2_2023_035.tif\n"
     ]
    },
    {
     "data": {
      "application/vnd.jupyter.widget-view+json": {
       "model_id": "1368df31c5bc47a7b92a55bf5b9deef2",
       "version_major": 2,
       "version_minor": 0
      },
      "text/plain": [
       "sentinel2_2023_035.tif: |          | 0.00/3.72M (raw) [  0.0%] in 00:00 (eta:     ?)"
      ]
     },
     "metadata": {},
     "output_type": "display_data"
    },
    {
     "name": "stdout",
     "output_type": "stream",
     "text": [
      "Downloading 36/121: E:/test/sentinel2_2023_036.tif\n"
     ]
    },
    {
     "data": {
      "application/vnd.jupyter.widget-view+json": {
       "model_id": "ca0c0f3648c2475eb78077653692647a",
       "version_major": 2,
       "version_minor": 0
      },
      "text/plain": [
       "sentinel2_2023_036.tif: |          | 0.00/3.72M (raw) [  0.0%] in 00:00 (eta:     ?)"
      ]
     },
     "metadata": {},
     "output_type": "display_data"
    },
    {
     "name": "stdout",
     "output_type": "stream",
     "text": [
      "Downloading 37/121: E:/test/sentinel2_2023_037.tif\n"
     ]
    },
    {
     "data": {
      "application/vnd.jupyter.widget-view+json": {
       "model_id": "20847dca48534fa597843bca9b918c59",
       "version_major": 2,
       "version_minor": 0
      },
      "text/plain": [
       "sentinel2_2023_037.tif: |          | 0.00/3.72M (raw) [  0.0%] in 00:00 (eta:     ?)"
      ]
     },
     "metadata": {},
     "output_type": "display_data"
    },
    {
     "name": "stdout",
     "output_type": "stream",
     "text": [
      "Downloading 38/121: E:/test/sentinel2_2023_038.tif\n"
     ]
    },
    {
     "data": {
      "application/vnd.jupyter.widget-view+json": {
       "model_id": "00c844da17e445288d47b4b629cf082c",
       "version_major": 2,
       "version_minor": 0
      },
      "text/plain": [
       "sentinel2_2023_038.tif: |          | 0.00/3.72M (raw) [  0.0%] in 00:00 (eta:     ?)"
      ]
     },
     "metadata": {},
     "output_type": "display_data"
    },
    {
     "name": "stdout",
     "output_type": "stream",
     "text": [
      "Downloading 39/121: E:/test/sentinel2_2023_039.tif\n"
     ]
    },
    {
     "data": {
      "application/vnd.jupyter.widget-view+json": {
       "model_id": "66245eef9ae547f4a706c85ec205c824",
       "version_major": 2,
       "version_minor": 0
      },
      "text/plain": [
       "sentinel2_2023_039.tif: |          | 0.00/3.73M (raw) [  0.0%] in 00:00 (eta:     ?)"
      ]
     },
     "metadata": {},
     "output_type": "display_data"
    },
    {
     "name": "stdout",
     "output_type": "stream",
     "text": [
      "Downloading 40/121: E:/test/sentinel2_2023_040.tif\n"
     ]
    },
    {
     "data": {
      "application/vnd.jupyter.widget-view+json": {
       "model_id": "58f745171bf248fab0bf4b2e1f2a4052",
       "version_major": 2,
       "version_minor": 0
      },
      "text/plain": [
       "sentinel2_2023_040.tif: |          | 0.00/3.72M (raw) [  0.0%] in 00:00 (eta:     ?)"
      ]
     },
     "metadata": {},
     "output_type": "display_data"
    },
    {
     "name": "stdout",
     "output_type": "stream",
     "text": [
      "Downloading 41/121: E:/test/sentinel2_2023_041.tif\n"
     ]
    },
    {
     "data": {
      "application/vnd.jupyter.widget-view+json": {
       "model_id": "072cb387233b423fb740ba29b228e085",
       "version_major": 2,
       "version_minor": 0
      },
      "text/plain": [
       "sentinel2_2023_041.tif: |          | 0.00/3.72M (raw) [  0.0%] in 00:00 (eta:     ?)"
      ]
     },
     "metadata": {},
     "output_type": "display_data"
    },
    {
     "name": "stdout",
     "output_type": "stream",
     "text": [
      "Downloading 42/121: E:/test/sentinel2_2023_042.tif\n"
     ]
    },
    {
     "data": {
      "application/vnd.jupyter.widget-view+json": {
       "model_id": "213eb8332be94ad9a0dade13ae313f2f",
       "version_major": 2,
       "version_minor": 0
      },
      "text/plain": [
       "sentinel2_2023_042.tif: |          | 0.00/3.72M (raw) [  0.0%] in 00:00 (eta:     ?)"
      ]
     },
     "metadata": {},
     "output_type": "display_data"
    },
    {
     "name": "stdout",
     "output_type": "stream",
     "text": [
      "Downloading 43/121: E:/test/sentinel2_2023_043.tif\n"
     ]
    },
    {
     "data": {
      "application/vnd.jupyter.widget-view+json": {
       "model_id": "c5c88a42554847029073a3bae09b2d70",
       "version_major": 2,
       "version_minor": 0
      },
      "text/plain": [
       "sentinel2_2023_043.tif: |          | 0.00/3.72M (raw) [  0.0%] in 00:00 (eta:     ?)"
      ]
     },
     "metadata": {},
     "output_type": "display_data"
    },
    {
     "name": "stdout",
     "output_type": "stream",
     "text": [
      "Downloading 44/121: E:/test/sentinel2_2023_044.tif\n"
     ]
    },
    {
     "data": {
      "application/vnd.jupyter.widget-view+json": {
       "model_id": "9440151dc1874da8b172bd891ec9ce70",
       "version_major": 2,
       "version_minor": 0
      },
      "text/plain": [
       "sentinel2_2023_044.tif: |          | 0.00/3.73M (raw) [  0.0%] in 00:00 (eta:     ?)"
      ]
     },
     "metadata": {},
     "output_type": "display_data"
    },
    {
     "name": "stdout",
     "output_type": "stream",
     "text": [
      "Downloading 45/121: E:/test/sentinel2_2023_045.tif\n"
     ]
    },
    {
     "data": {
      "application/vnd.jupyter.widget-view+json": {
       "model_id": "8cbcd21ad79b40898a1fa4250e7957cc",
       "version_major": 2,
       "version_minor": 0
      },
      "text/plain": [
       "sentinel2_2023_045.tif: |          | 0.00/3.73M (raw) [  0.0%] in 00:00 (eta:     ?)"
      ]
     },
     "metadata": {},
     "output_type": "display_data"
    },
    {
     "name": "stdout",
     "output_type": "stream",
     "text": [
      "Downloading 46/121: E:/test/sentinel2_2023_046.tif\n"
     ]
    },
    {
     "data": {
      "application/vnd.jupyter.widget-view+json": {
       "model_id": "71543a6e3945462f9af0285f4912e774",
       "version_major": 2,
       "version_minor": 0
      },
      "text/plain": [
       "sentinel2_2023_046.tif: |          | 0.00/3.72M (raw) [  0.0%] in 00:00 (eta:     ?)"
      ]
     },
     "metadata": {},
     "output_type": "display_data"
    },
    {
     "name": "stdout",
     "output_type": "stream",
     "text": [
      "Downloading 47/121: E:/test/sentinel2_2023_047.tif\n"
     ]
    },
    {
     "data": {
      "application/vnd.jupyter.widget-view+json": {
       "model_id": "9049726ddb574ead9bf1598207a0f0a1",
       "version_major": 2,
       "version_minor": 0
      },
      "text/plain": [
       "sentinel2_2023_047.tif: |          | 0.00/3.72M (raw) [  0.0%] in 00:00 (eta:     ?)"
      ]
     },
     "metadata": {},
     "output_type": "display_data"
    },
    {
     "name": "stdout",
     "output_type": "stream",
     "text": [
      "Downloading 48/121: E:/test/sentinel2_2023_048.tif\n"
     ]
    },
    {
     "data": {
      "application/vnd.jupyter.widget-view+json": {
       "model_id": "43ec053b1b0948898e2b8ebd56c74031",
       "version_major": 2,
       "version_minor": 0
      },
      "text/plain": [
       "sentinel2_2023_048.tif: |          | 0.00/3.72M (raw) [  0.0%] in 00:00 (eta:     ?)"
      ]
     },
     "metadata": {},
     "output_type": "display_data"
    },
    {
     "name": "stdout",
     "output_type": "stream",
     "text": [
      "Downloading 49/121: E:/test/sentinel2_2023_049.tif\n"
     ]
    },
    {
     "data": {
      "application/vnd.jupyter.widget-view+json": {
       "model_id": "e6c0afb1ff1645209cc8f2b8cc5b9329",
       "version_major": 2,
       "version_minor": 0
      },
      "text/plain": [
       "sentinel2_2023_049.tif: |          | 0.00/3.72M (raw) [  0.0%] in 00:00 (eta:     ?)"
      ]
     },
     "metadata": {},
     "output_type": "display_data"
    },
    {
     "name": "stdout",
     "output_type": "stream",
     "text": [
      "Downloading 50/121: E:/test/sentinel2_2023_050.tif\n"
     ]
    },
    {
     "data": {
      "application/vnd.jupyter.widget-view+json": {
       "model_id": "511c1c3db08b4172b1c2c5af3f05fd0a",
       "version_major": 2,
       "version_minor": 0
      },
      "text/plain": [
       "sentinel2_2023_050.tif: |          | 0.00/3.73M (raw) [  0.0%] in 00:00 (eta:     ?)"
      ]
     },
     "metadata": {},
     "output_type": "display_data"
    },
    {
     "name": "stdout",
     "output_type": "stream",
     "text": [
      "Downloading 51/121: E:/test/sentinel2_2023_051.tif\n"
     ]
    },
    {
     "data": {
      "application/vnd.jupyter.widget-view+json": {
       "model_id": "f2fa68512dbf48a6b94ef650a7eaa6ee",
       "version_major": 2,
       "version_minor": 0
      },
      "text/plain": [
       "sentinel2_2023_051.tif: |          | 0.00/3.72M (raw) [  0.0%] in 00:00 (eta:     ?)"
      ]
     },
     "metadata": {},
     "output_type": "display_data"
    },
    {
     "name": "stdout",
     "output_type": "stream",
     "text": [
      "Downloading 52/121: E:/test/sentinel2_2023_052.tif\n"
     ]
    },
    {
     "data": {
      "application/vnd.jupyter.widget-view+json": {
       "model_id": "9c8b3227f6714ac8852e6b9e28cca273",
       "version_major": 2,
       "version_minor": 0
      },
      "text/plain": [
       "sentinel2_2023_052.tif: |          | 0.00/3.72M (raw) [  0.0%] in 00:00 (eta:     ?)"
      ]
     },
     "metadata": {},
     "output_type": "display_data"
    },
    {
     "name": "stdout",
     "output_type": "stream",
     "text": [
      "Downloading 53/121: E:/test/sentinel2_2023_053.tif\n"
     ]
    },
    {
     "data": {
      "application/vnd.jupyter.widget-view+json": {
       "model_id": "5d972bf46c7f412dacb21c84524b7fb9",
       "version_major": 2,
       "version_minor": 0
      },
      "text/plain": [
       "sentinel2_2023_053.tif: |          | 0.00/3.72M (raw) [  0.0%] in 00:00 (eta:     ?)"
      ]
     },
     "metadata": {},
     "output_type": "display_data"
    },
    {
     "name": "stdout",
     "output_type": "stream",
     "text": [
      "Downloading 54/121: E:/test/sentinel2_2023_054.tif\n"
     ]
    },
    {
     "data": {
      "application/vnd.jupyter.widget-view+json": {
       "model_id": "3ac228f6d262474fb21f01cb0df4be18",
       "version_major": 2,
       "version_minor": 0
      },
      "text/plain": [
       "sentinel2_2023_054.tif: |          | 0.00/3.72M (raw) [  0.0%] in 00:00 (eta:     ?)"
      ]
     },
     "metadata": {},
     "output_type": "display_data"
    },
    {
     "name": "stdout",
     "output_type": "stream",
     "text": [
      "Downloading 55/121: E:/test/sentinel2_2023_055.tif\n"
     ]
    },
    {
     "data": {
      "application/vnd.jupyter.widget-view+json": {
       "model_id": "11b7b90328cc4e49b87c64c87edcaa78",
       "version_major": 2,
       "version_minor": 0
      },
      "text/plain": [
       "sentinel2_2023_055.tif: |          | 0.00/3.73M (raw) [  0.0%] in 00:00 (eta:     ?)"
      ]
     },
     "metadata": {},
     "output_type": "display_data"
    },
    {
     "name": "stdout",
     "output_type": "stream",
     "text": [
      "Downloading 56/121: E:/test/sentinel2_2023_056.tif\n"
     ]
    },
    {
     "data": {
      "application/vnd.jupyter.widget-view+json": {
       "model_id": "74ebaecdab174dc3b6d08e93633275fe",
       "version_major": 2,
       "version_minor": 0
      },
      "text/plain": [
       "sentinel2_2023_056.tif: |          | 0.00/3.73M (raw) [  0.0%] in 00:00 (eta:     ?)"
      ]
     },
     "metadata": {},
     "output_type": "display_data"
    },
    {
     "name": "stdout",
     "output_type": "stream",
     "text": [
      "Downloading 57/121: E:/test/sentinel2_2023_057.tif\n"
     ]
    },
    {
     "data": {
      "application/vnd.jupyter.widget-view+json": {
       "model_id": "231e853f69344e01839d4da1c623a140",
       "version_major": 2,
       "version_minor": 0
      },
      "text/plain": [
       "sentinel2_2023_057.tif: |          | 0.00/3.72M (raw) [  0.0%] in 00:00 (eta:     ?)"
      ]
     },
     "metadata": {},
     "output_type": "display_data"
    },
    {
     "name": "stdout",
     "output_type": "stream",
     "text": [
      "Downloading 58/121: E:/test/sentinel2_2023_058.tif\n"
     ]
    },
    {
     "data": {
      "application/vnd.jupyter.widget-view+json": {
       "model_id": "3e39591061024b87bc106f9c4cf43eca",
       "version_major": 2,
       "version_minor": 0
      },
      "text/plain": [
       "sentinel2_2023_058.tif: |          | 0.00/3.72M (raw) [  0.0%] in 00:00 (eta:     ?)"
      ]
     },
     "metadata": {},
     "output_type": "display_data"
    },
    {
     "name": "stdout",
     "output_type": "stream",
     "text": [
      "Downloading 59/121: E:/test/sentinel2_2023_059.tif\n"
     ]
    },
    {
     "data": {
      "application/vnd.jupyter.widget-view+json": {
       "model_id": "50370d5ddaa54fcb920a2ceffa99455f",
       "version_major": 2,
       "version_minor": 0
      },
      "text/plain": [
       "sentinel2_2023_059.tif: |          | 0.00/3.72M (raw) [  0.0%] in 00:00 (eta:     ?)"
      ]
     },
     "metadata": {},
     "output_type": "display_data"
    },
    {
     "name": "stdout",
     "output_type": "stream",
     "text": [
      "Downloading 60/121: E:/test/sentinel2_2023_060.tif\n"
     ]
    },
    {
     "data": {
      "application/vnd.jupyter.widget-view+json": {
       "model_id": "43db8eb7838b4cdaaae94a140ef01f0b",
       "version_major": 2,
       "version_minor": 0
      },
      "text/plain": [
       "sentinel2_2023_060.tif: |          | 0.00/3.72M (raw) [  0.0%] in 00:00 (eta:     ?)"
      ]
     },
     "metadata": {},
     "output_type": "display_data"
    },
    {
     "name": "stdout",
     "output_type": "stream",
     "text": [
      "Downloading 61/121: E:/test/sentinel2_2023_061.tif\n"
     ]
    },
    {
     "data": {
      "application/vnd.jupyter.widget-view+json": {
       "model_id": "6c99f557520041c4bb2787c46330fbce",
       "version_major": 2,
       "version_minor": 0
      },
      "text/plain": [
       "sentinel2_2023_061.tif: |          | 0.00/3.73M (raw) [  0.0%] in 00:00 (eta:     ?)"
      ]
     },
     "metadata": {},
     "output_type": "display_data"
    },
    {
     "name": "stdout",
     "output_type": "stream",
     "text": [
      "Downloading 62/121: E:/test/sentinel2_2023_062.tif\n"
     ]
    },
    {
     "data": {
      "application/vnd.jupyter.widget-view+json": {
       "model_id": "0940cd5ddad74f00a457df23a4b3f151",
       "version_major": 2,
       "version_minor": 0
      },
      "text/plain": [
       "sentinel2_2023_062.tif: |          | 0.00/3.72M (raw) [  0.0%] in 00:00 (eta:     ?)"
      ]
     },
     "metadata": {},
     "output_type": "display_data"
    },
    {
     "name": "stdout",
     "output_type": "stream",
     "text": [
      "Downloading 63/121: E:/test/sentinel2_2023_063.tif\n"
     ]
    },
    {
     "data": {
      "application/vnd.jupyter.widget-view+json": {
       "model_id": "a2163557052b4b1facdef955b3316179",
       "version_major": 2,
       "version_minor": 0
      },
      "text/plain": [
       "sentinel2_2023_063.tif: |          | 0.00/3.72M (raw) [  0.0%] in 00:00 (eta:     ?)"
      ]
     },
     "metadata": {},
     "output_type": "display_data"
    },
    {
     "name": "stdout",
     "output_type": "stream",
     "text": [
      "Downloading 64/121: E:/test/sentinel2_2023_064.tif\n"
     ]
    },
    {
     "data": {
      "application/vnd.jupyter.widget-view+json": {
       "model_id": "3fee64a96e554c98a1282bb8c6c4d89f",
       "version_major": 2,
       "version_minor": 0
      },
      "text/plain": [
       "sentinel2_2023_064.tif: |          | 0.00/3.72M (raw) [  0.0%] in 00:00 (eta:     ?)"
      ]
     },
     "metadata": {},
     "output_type": "display_data"
    },
    {
     "name": "stdout",
     "output_type": "stream",
     "text": [
      "Downloading 65/121: E:/test/sentinel2_2023_065.tif\n"
     ]
    },
    {
     "data": {
      "application/vnd.jupyter.widget-view+json": {
       "model_id": "92eaa36f2d094d46890f8df569df6241",
       "version_major": 2,
       "version_minor": 0
      },
      "text/plain": [
       "sentinel2_2023_065.tif: |          | 0.00/3.72M (raw) [  0.0%] in 00:00 (eta:     ?)"
      ]
     },
     "metadata": {},
     "output_type": "display_data"
    },
    {
     "name": "stdout",
     "output_type": "stream",
     "text": [
      "Downloading 66/121: E:/test/sentinel2_2023_066.tif\n"
     ]
    },
    {
     "data": {
      "application/vnd.jupyter.widget-view+json": {
       "model_id": "a8d7ca2312464178940725d06eb77fc4",
       "version_major": 2,
       "version_minor": 0
      },
      "text/plain": [
       "sentinel2_2023_066.tif: |          | 0.00/3.73M (raw) [  0.0%] in 00:00 (eta:     ?)"
      ]
     },
     "metadata": {},
     "output_type": "display_data"
    },
    {
     "name": "stdout",
     "output_type": "stream",
     "text": [
      "Downloading 67/121: E:/test/sentinel2_2023_067.tif\n"
     ]
    },
    {
     "data": {
      "application/vnd.jupyter.widget-view+json": {
       "model_id": "1d6aba67628948208aef3858720a5d76",
       "version_major": 2,
       "version_minor": 0
      },
      "text/plain": [
       "sentinel2_2023_067.tif: |          | 0.00/3.73M (raw) [  0.0%] in 00:00 (eta:     ?)"
      ]
     },
     "metadata": {},
     "output_type": "display_data"
    },
    {
     "name": "stdout",
     "output_type": "stream",
     "text": [
      "Downloading 68/121: E:/test/sentinel2_2023_068.tif\n"
     ]
    },
    {
     "data": {
      "application/vnd.jupyter.widget-view+json": {
       "model_id": "fd27d15cda5d47b88abf66adb573eea7",
       "version_major": 2,
       "version_minor": 0
      },
      "text/plain": [
       "sentinel2_2023_068.tif: |          | 0.00/3.72M (raw) [  0.0%] in 00:00 (eta:     ?)"
      ]
     },
     "metadata": {},
     "output_type": "display_data"
    },
    {
     "name": "stdout",
     "output_type": "stream",
     "text": [
      "Downloading 69/121: E:/test/sentinel2_2023_069.tif\n"
     ]
    },
    {
     "data": {
      "application/vnd.jupyter.widget-view+json": {
       "model_id": "05efff97107640f3929723d38443f4fc",
       "version_major": 2,
       "version_minor": 0
      },
      "text/plain": [
       "sentinel2_2023_069.tif: |          | 0.00/3.72M (raw) [  0.0%] in 00:00 (eta:     ?)"
      ]
     },
     "metadata": {},
     "output_type": "display_data"
    },
    {
     "name": "stdout",
     "output_type": "stream",
     "text": [
      "Downloading 70/121: E:/test/sentinel2_2023_070.tif\n"
     ]
    },
    {
     "data": {
      "application/vnd.jupyter.widget-view+json": {
       "model_id": "25b6d9fdfff64319bc1e98cb242f1bd8",
       "version_major": 2,
       "version_minor": 0
      },
      "text/plain": [
       "sentinel2_2023_070.tif: |          | 0.00/3.72M (raw) [  0.0%] in 00:00 (eta:     ?)"
      ]
     },
     "metadata": {},
     "output_type": "display_data"
    },
    {
     "name": "stdout",
     "output_type": "stream",
     "text": [
      "Downloading 71/121: E:/test/sentinel2_2023_071.tif\n"
     ]
    },
    {
     "data": {
      "application/vnd.jupyter.widget-view+json": {
       "model_id": "365000bbd56c424c8160048d60ff53b3",
       "version_major": 2,
       "version_minor": 0
      },
      "text/plain": [
       "sentinel2_2023_071.tif: |          | 0.00/3.72M (raw) [  0.0%] in 00:00 (eta:     ?)"
      ]
     },
     "metadata": {},
     "output_type": "display_data"
    },
    {
     "name": "stdout",
     "output_type": "stream",
     "text": [
      "Downloading 72/121: E:/test/sentinel2_2023_072.tif\n"
     ]
    },
    {
     "data": {
      "application/vnd.jupyter.widget-view+json": {
       "model_id": "c877fc808e084f81bf4b94973bc71c8e",
       "version_major": 2,
       "version_minor": 0
      },
      "text/plain": [
       "sentinel2_2023_072.tif: |          | 0.00/3.73M (raw) [  0.0%] in 00:00 (eta:     ?)"
      ]
     },
     "metadata": {},
     "output_type": "display_data"
    },
    {
     "name": "stdout",
     "output_type": "stream",
     "text": [
      "Downloading 73/121: E:/test/sentinel2_2023_073.tif\n"
     ]
    },
    {
     "data": {
      "application/vnd.jupyter.widget-view+json": {
       "model_id": "e72ade853a3a47acbaee8d2e3b81d685",
       "version_major": 2,
       "version_minor": 0
      },
      "text/plain": [
       "sentinel2_2023_073.tif: |          | 0.00/3.72M (raw) [  0.0%] in 00:00 (eta:     ?)"
      ]
     },
     "metadata": {},
     "output_type": "display_data"
    },
    {
     "name": "stdout",
     "output_type": "stream",
     "text": [
      "Downloading 74/121: E:/test/sentinel2_2023_074.tif\n"
     ]
    },
    {
     "data": {
      "application/vnd.jupyter.widget-view+json": {
       "model_id": "2c6ddaa76f344425bb47e83fe406a55a",
       "version_major": 2,
       "version_minor": 0
      },
      "text/plain": [
       "sentinel2_2023_074.tif: |          | 0.00/3.72M (raw) [  0.0%] in 00:00 (eta:     ?)"
      ]
     },
     "metadata": {},
     "output_type": "display_data"
    },
    {
     "name": "stdout",
     "output_type": "stream",
     "text": [
      "Downloading 75/121: E:/test/sentinel2_2023_075.tif\n"
     ]
    },
    {
     "data": {
      "application/vnd.jupyter.widget-view+json": {
       "model_id": "40c2c01e68154257894b765b4a2ab5d6",
       "version_major": 2,
       "version_minor": 0
      },
      "text/plain": [
       "sentinel2_2023_075.tif: |          | 0.00/3.72M (raw) [  0.0%] in 00:00 (eta:     ?)"
      ]
     },
     "metadata": {},
     "output_type": "display_data"
    },
    {
     "name": "stdout",
     "output_type": "stream",
     "text": [
      "Downloading 76/121: E:/test/sentinel2_2023_076.tif\n"
     ]
    },
    {
     "data": {
      "application/vnd.jupyter.widget-view+json": {
       "model_id": "250b4b60510443169a6984a2668d9425",
       "version_major": 2,
       "version_minor": 0
      },
      "text/plain": [
       "sentinel2_2023_076.tif: |          | 0.00/3.72M (raw) [  0.0%] in 00:00 (eta:     ?)"
      ]
     },
     "metadata": {},
     "output_type": "display_data"
    },
    {
     "name": "stdout",
     "output_type": "stream",
     "text": [
      "Downloading 77/121: E:/test/sentinel2_2023_077.tif\n"
     ]
    },
    {
     "data": {
      "application/vnd.jupyter.widget-view+json": {
       "model_id": "9454ab8390ba44f1995e14dcd27116d8",
       "version_major": 2,
       "version_minor": 0
      },
      "text/plain": [
       "sentinel2_2023_077.tif: |          | 0.00/3.73M (raw) [  0.0%] in 00:00 (eta:     ?)"
      ]
     },
     "metadata": {},
     "output_type": "display_data"
    },
    {
     "name": "stdout",
     "output_type": "stream",
     "text": [
      "Downloading 78/121: E:/test/sentinel2_2023_078.tif\n"
     ]
    },
    {
     "data": {
      "application/vnd.jupyter.widget-view+json": {
       "model_id": "bc9eb755fa044409bd2bf20fa9dfdfb6",
       "version_major": 2,
       "version_minor": 0
      },
      "text/plain": [
       "sentinel2_2023_078.tif: |          | 0.00/3.73M (raw) [  0.0%] in 00:00 (eta:     ?)"
      ]
     },
     "metadata": {},
     "output_type": "display_data"
    },
    {
     "name": "stdout",
     "output_type": "stream",
     "text": [
      "Downloading 79/121: E:/test/sentinel2_2023_079.tif\n"
     ]
    },
    {
     "data": {
      "application/vnd.jupyter.widget-view+json": {
       "model_id": "0016599cc30b4d81a93ba92992618e1c",
       "version_major": 2,
       "version_minor": 0
      },
      "text/plain": [
       "sentinel2_2023_079.tif: |          | 0.00/3.73M (raw) [  0.0%] in 00:00 (eta:     ?)"
      ]
     },
     "metadata": {},
     "output_type": "display_data"
    },
    {
     "name": "stdout",
     "output_type": "stream",
     "text": [
      "Downloading 80/121: E:/test/sentinel2_2023_080.tif\n"
     ]
    },
    {
     "data": {
      "application/vnd.jupyter.widget-view+json": {
       "model_id": "e808cc853d8f44ed9032abf4d9b778b5",
       "version_major": 2,
       "version_minor": 0
      },
      "text/plain": [
       "sentinel2_2023_080.tif: |          | 0.00/3.73M (raw) [  0.0%] in 00:00 (eta:     ?)"
      ]
     },
     "metadata": {},
     "output_type": "display_data"
    },
    {
     "name": "stdout",
     "output_type": "stream",
     "text": [
      "Downloading 81/121: E:/test/sentinel2_2023_081.tif\n"
     ]
    },
    {
     "data": {
      "application/vnd.jupyter.widget-view+json": {
       "model_id": "88efc365f1b041c9a8ea76967a10d1b5",
       "version_major": 2,
       "version_minor": 0
      },
      "text/plain": [
       "sentinel2_2023_081.tif: |          | 0.00/3.73M (raw) [  0.0%] in 00:00 (eta:     ?)"
      ]
     },
     "metadata": {},
     "output_type": "display_data"
    },
    {
     "name": "stdout",
     "output_type": "stream",
     "text": [
      "Downloading 82/121: E:/test/sentinel2_2023_082.tif\n"
     ]
    },
    {
     "data": {
      "application/vnd.jupyter.widget-view+json": {
       "model_id": "e70830673490472ba08d9db359cb274e",
       "version_major": 2,
       "version_minor": 0
      },
      "text/plain": [
       "sentinel2_2023_082.tif: |          | 0.00/3.73M (raw) [  0.0%] in 00:00 (eta:     ?)"
      ]
     },
     "metadata": {},
     "output_type": "display_data"
    },
    {
     "name": "stdout",
     "output_type": "stream",
     "text": [
      "Downloading 83/121: E:/test/sentinel2_2023_083.tif\n"
     ]
    },
    {
     "data": {
      "application/vnd.jupyter.widget-view+json": {
       "model_id": "190bfc02296e4327a77c8421973126d7",
       "version_major": 2,
       "version_minor": 0
      },
      "text/plain": [
       "sentinel2_2023_083.tif: |          | 0.00/3.73M (raw) [  0.0%] in 00:00 (eta:     ?)"
      ]
     },
     "metadata": {},
     "output_type": "display_data"
    },
    {
     "name": "stdout",
     "output_type": "stream",
     "text": [
      "Downloading 84/121: E:/test/sentinel2_2023_084.tif\n"
     ]
    },
    {
     "data": {
      "application/vnd.jupyter.widget-view+json": {
       "model_id": "bd0ab5ee7cbd4a8f824ec97ecdf42cf6",
       "version_major": 2,
       "version_minor": 0
      },
      "text/plain": [
       "sentinel2_2023_084.tif: |          | 0.00/3.73M (raw) [  0.0%] in 00:00 (eta:     ?)"
      ]
     },
     "metadata": {},
     "output_type": "display_data"
    },
    {
     "name": "stdout",
     "output_type": "stream",
     "text": [
      "Downloading 85/121: E:/test/sentinel2_2023_085.tif\n"
     ]
    },
    {
     "data": {
      "application/vnd.jupyter.widget-view+json": {
       "model_id": "84587d8ebff444c2bc9153b2e0b3c7f2",
       "version_major": 2,
       "version_minor": 0
      },
      "text/plain": [
       "sentinel2_2023_085.tif: |          | 0.00/3.73M (raw) [  0.0%] in 00:00 (eta:     ?)"
      ]
     },
     "metadata": {},
     "output_type": "display_data"
    },
    {
     "name": "stdout",
     "output_type": "stream",
     "text": [
      "Downloading 86/121: E:/test/sentinel2_2023_086.tif\n"
     ]
    },
    {
     "data": {
      "application/vnd.jupyter.widget-view+json": {
       "model_id": "4305b1e4a7e841a780092aaddff7d5c4",
       "version_major": 2,
       "version_minor": 0
      },
      "text/plain": [
       "sentinel2_2023_086.tif: |          | 0.00/3.73M (raw) [  0.0%] in 00:00 (eta:     ?)"
      ]
     },
     "metadata": {},
     "output_type": "display_data"
    },
    {
     "name": "stdout",
     "output_type": "stream",
     "text": [
      "Downloading 87/121: E:/test/sentinel2_2023_087.tif\n"
     ]
    },
    {
     "data": {
      "application/vnd.jupyter.widget-view+json": {
       "model_id": "8a937fa1ee414e9bbb20f4a0f036db5d",
       "version_major": 2,
       "version_minor": 0
      },
      "text/plain": [
       "sentinel2_2023_087.tif: |          | 0.00/3.73M (raw) [  0.0%] in 00:00 (eta:     ?)"
      ]
     },
     "metadata": {},
     "output_type": "display_data"
    },
    {
     "name": "stdout",
     "output_type": "stream",
     "text": [
      "Downloading 88/121: E:/test/sentinel2_2023_088.tif\n"
     ]
    },
    {
     "data": {
      "application/vnd.jupyter.widget-view+json": {
       "model_id": "025437545cda457e8fda87b83d5d7a2f",
       "version_major": 2,
       "version_minor": 0
      },
      "text/plain": [
       "sentinel2_2023_088.tif: |          | 0.00/3.73M (raw) [  0.0%] in 00:00 (eta:     ?)"
      ]
     },
     "metadata": {},
     "output_type": "display_data"
    },
    {
     "name": "stdout",
     "output_type": "stream",
     "text": [
      "Downloading 89/121: E:/test/sentinel2_2023_089.tif\n"
     ]
    },
    {
     "data": {
      "application/vnd.jupyter.widget-view+json": {
       "model_id": "c936adb9eda24b56907b2231a3d2fabe",
       "version_major": 2,
       "version_minor": 0
      },
      "text/plain": [
       "sentinel2_2023_089.tif: |          | 0.00/3.73M (raw) [  0.0%] in 00:00 (eta:     ?)"
      ]
     },
     "metadata": {},
     "output_type": "display_data"
    },
    {
     "name": "stdout",
     "output_type": "stream",
     "text": [
      "Downloading 90/121: E:/test/sentinel2_2023_090.tif\n"
     ]
    },
    {
     "data": {
      "application/vnd.jupyter.widget-view+json": {
       "model_id": "b42fc5622d1745579bd0a26e716e7e6a",
       "version_major": 2,
       "version_minor": 0
      },
      "text/plain": [
       "sentinel2_2023_090.tif: |          | 0.00/3.72M (raw) [  0.0%] in 00:00 (eta:     ?)"
      ]
     },
     "metadata": {},
     "output_type": "display_data"
    },
    {
     "name": "stdout",
     "output_type": "stream",
     "text": [
      "Downloading 91/121: E:/test/sentinel2_2023_091.tif\n"
     ]
    },
    {
     "data": {
      "application/vnd.jupyter.widget-view+json": {
       "model_id": "a89495aaab6e4cbe9929e66ff617cb7c",
       "version_major": 2,
       "version_minor": 0
      },
      "text/plain": [
       "sentinel2_2023_091.tif: |          | 0.00/3.72M (raw) [  0.0%] in 00:00 (eta:     ?)"
      ]
     },
     "metadata": {},
     "output_type": "display_data"
    },
    {
     "name": "stdout",
     "output_type": "stream",
     "text": [
      "Downloading 92/121: E:/test/sentinel2_2023_092.tif\n"
     ]
    },
    {
     "data": {
      "application/vnd.jupyter.widget-view+json": {
       "model_id": "b9524685edaa4270a4767a3233b9dc5b",
       "version_major": 2,
       "version_minor": 0
      },
      "text/plain": [
       "sentinel2_2023_092.tif: |          | 0.00/3.72M (raw) [  0.0%] in 00:00 (eta:     ?)"
      ]
     },
     "metadata": {},
     "output_type": "display_data"
    },
    {
     "name": "stdout",
     "output_type": "stream",
     "text": [
      "Downloading 93/121: E:/test/sentinel2_2023_093.tif\n"
     ]
    },
    {
     "data": {
      "application/vnd.jupyter.widget-view+json": {
       "model_id": "3ad7e22407bd43069fdf4ce1df76af88",
       "version_major": 2,
       "version_minor": 0
      },
      "text/plain": [
       "sentinel2_2023_093.tif: |          | 0.00/3.72M (raw) [  0.0%] in 00:00 (eta:     ?)"
      ]
     },
     "metadata": {},
     "output_type": "display_data"
    },
    {
     "name": "stdout",
     "output_type": "stream",
     "text": [
      "Downloading 94/121: E:/test/sentinel2_2023_094.tif\n"
     ]
    },
    {
     "data": {
      "application/vnd.jupyter.widget-view+json": {
       "model_id": "edd65b560bd54a8482232dd23783e0f7",
       "version_major": 2,
       "version_minor": 0
      },
      "text/plain": [
       "sentinel2_2023_094.tif: |          | 0.00/3.73M (raw) [  0.0%] in 00:00 (eta:     ?)"
      ]
     },
     "metadata": {},
     "output_type": "display_data"
    },
    {
     "name": "stdout",
     "output_type": "stream",
     "text": [
      "Downloading 95/121: E:/test/sentinel2_2023_095.tif\n"
     ]
    },
    {
     "data": {
      "application/vnd.jupyter.widget-view+json": {
       "model_id": "07b875e2c31545fda18db46838e78e60",
       "version_major": 2,
       "version_minor": 0
      },
      "text/plain": [
       "sentinel2_2023_095.tif: |          | 0.00/3.72M (raw) [  0.0%] in 00:00 (eta:     ?)"
      ]
     },
     "metadata": {},
     "output_type": "display_data"
    },
    {
     "name": "stdout",
     "output_type": "stream",
     "text": [
      "Downloading 96/121: E:/test/sentinel2_2023_096.tif\n"
     ]
    },
    {
     "data": {
      "application/vnd.jupyter.widget-view+json": {
       "model_id": "71a3da40229141d1a8128dea067224e3",
       "version_major": 2,
       "version_minor": 0
      },
      "text/plain": [
       "sentinel2_2023_096.tif: |          | 0.00/3.72M (raw) [  0.0%] in 00:00 (eta:     ?)"
      ]
     },
     "metadata": {},
     "output_type": "display_data"
    },
    {
     "name": "stdout",
     "output_type": "stream",
     "text": [
      "Downloading 97/121: E:/test/sentinel2_2023_097.tif\n"
     ]
    },
    {
     "data": {
      "application/vnd.jupyter.widget-view+json": {
       "model_id": "e592a060c9e64763a4678b17d0ef31eb",
       "version_major": 2,
       "version_minor": 0
      },
      "text/plain": [
       "sentinel2_2023_097.tif: |          | 0.00/3.72M (raw) [  0.0%] in 00:00 (eta:     ?)"
      ]
     },
     "metadata": {},
     "output_type": "display_data"
    },
    {
     "name": "stdout",
     "output_type": "stream",
     "text": [
      "Downloading 98/121: E:/test/sentinel2_2023_098.tif\n"
     ]
    },
    {
     "data": {
      "application/vnd.jupyter.widget-view+json": {
       "model_id": "7604f68278664d7ea3767c2a23a27607",
       "version_major": 2,
       "version_minor": 0
      },
      "text/plain": [
       "sentinel2_2023_098.tif: |          | 0.00/3.72M (raw) [  0.0%] in 00:00 (eta:     ?)"
      ]
     },
     "metadata": {},
     "output_type": "display_data"
    },
    {
     "name": "stdout",
     "output_type": "stream",
     "text": [
      "Downloading 99/121: E:/test/sentinel2_2023_099.tif\n"
     ]
    },
    {
     "data": {
      "application/vnd.jupyter.widget-view+json": {
       "model_id": "0f25b8da77fb457c99a6d7a7f22de9c6",
       "version_major": 2,
       "version_minor": 0
      },
      "text/plain": [
       "sentinel2_2023_099.tif: |          | 0.00/3.73M (raw) [  0.0%] in 00:00 (eta:     ?)"
      ]
     },
     "metadata": {},
     "output_type": "display_data"
    },
    {
     "name": "stdout",
     "output_type": "stream",
     "text": [
      "Downloading 100/121: E:/test/sentinel2_2023_100.tif\n"
     ]
    },
    {
     "data": {
      "application/vnd.jupyter.widget-view+json": {
       "model_id": "3c0d4a303a8e4108af6d902bae5940e1",
       "version_major": 2,
       "version_minor": 0
      },
      "text/plain": [
       "sentinel2_2023_100.tif: |          | 0.00/3.73M (raw) [  0.0%] in 00:00 (eta:     ?)"
      ]
     },
     "metadata": {},
     "output_type": "display_data"
    },
    {
     "name": "stdout",
     "output_type": "stream",
     "text": [
      "Downloading 101/121: E:/test/sentinel2_2023_101.tif\n"
     ]
    },
    {
     "data": {
      "application/vnd.jupyter.widget-view+json": {
       "model_id": "7e48b66b9e79463db1e71eed64ebdbeb",
       "version_major": 2,
       "version_minor": 0
      },
      "text/plain": [
       "sentinel2_2023_101.tif: |          | 0.00/3.72M (raw) [  0.0%] in 00:00 (eta:     ?)"
      ]
     },
     "metadata": {},
     "output_type": "display_data"
    },
    {
     "name": "stdout",
     "output_type": "stream",
     "text": [
      "Downloading 102/121: E:/test/sentinel2_2023_102.tif\n"
     ]
    },
    {
     "data": {
      "application/vnd.jupyter.widget-view+json": {
       "model_id": "bc762a11ff904d5fb76a077196f97d8a",
       "version_major": 2,
       "version_minor": 0
      },
      "text/plain": [
       "sentinel2_2023_102.tif: |          | 0.00/3.72M (raw) [  0.0%] in 00:00 (eta:     ?)"
      ]
     },
     "metadata": {},
     "output_type": "display_data"
    },
    {
     "name": "stdout",
     "output_type": "stream",
     "text": [
      "Downloading 103/121: E:/test/sentinel2_2023_103.tif\n"
     ]
    },
    {
     "data": {
      "application/vnd.jupyter.widget-view+json": {
       "model_id": "45a823355f4941f29e2bbf97996b35a1",
       "version_major": 2,
       "version_minor": 0
      },
      "text/plain": [
       "sentinel2_2023_103.tif: |          | 0.00/3.72M (raw) [  0.0%] in 00:00 (eta:     ?)"
      ]
     },
     "metadata": {},
     "output_type": "display_data"
    },
    {
     "name": "stdout",
     "output_type": "stream",
     "text": [
      "Downloading 104/121: E:/test/sentinel2_2023_104.tif\n"
     ]
    },
    {
     "data": {
      "application/vnd.jupyter.widget-view+json": {
       "model_id": "8993666b714c4e53a00bebfa4d5e19d4",
       "version_major": 2,
       "version_minor": 0
      },
      "text/plain": [
       "sentinel2_2023_104.tif: |          | 0.00/3.72M (raw) [  0.0%] in 00:00 (eta:     ?)"
      ]
     },
     "metadata": {},
     "output_type": "display_data"
    },
    {
     "name": "stdout",
     "output_type": "stream",
     "text": [
      "Downloading 105/121: E:/test/sentinel2_2023_105.tif\n"
     ]
    },
    {
     "data": {
      "application/vnd.jupyter.widget-view+json": {
       "model_id": "6584ac4a6b46402996914ef31a6fe337",
       "version_major": 2,
       "version_minor": 0
      },
      "text/plain": [
       "sentinel2_2023_105.tif: |          | 0.00/3.73M (raw) [  0.0%] in 00:00 (eta:     ?)"
      ]
     },
     "metadata": {},
     "output_type": "display_data"
    },
    {
     "name": "stdout",
     "output_type": "stream",
     "text": [
      "Downloading 106/121: E:/test/sentinel2_2023_106.tif\n"
     ]
    },
    {
     "data": {
      "application/vnd.jupyter.widget-view+json": {
       "model_id": "725f5b65d7904bd9853f830a64e44bc2",
       "version_major": 2,
       "version_minor": 0
      },
      "text/plain": [
       "sentinel2_2023_106.tif: |          | 0.00/3.72M (raw) [  0.0%] in 00:00 (eta:     ?)"
      ]
     },
     "metadata": {},
     "output_type": "display_data"
    },
    {
     "name": "stdout",
     "output_type": "stream",
     "text": [
      "Downloading 107/121: E:/test/sentinel2_2023_107.tif\n"
     ]
    },
    {
     "data": {
      "application/vnd.jupyter.widget-view+json": {
       "model_id": "da1d4dcf2fb243018f6fc0dcb4c2a0ef",
       "version_major": 2,
       "version_minor": 0
      },
      "text/plain": [
       "sentinel2_2023_107.tif: |          | 0.00/3.72M (raw) [  0.0%] in 00:00 (eta:     ?)"
      ]
     },
     "metadata": {},
     "output_type": "display_data"
    },
    {
     "name": "stdout",
     "output_type": "stream",
     "text": [
      "Downloading 108/121: E:/test/sentinel2_2023_108.tif\n"
     ]
    },
    {
     "data": {
      "application/vnd.jupyter.widget-view+json": {
       "model_id": "702d1067ca2740918efad5cd44626e3e",
       "version_major": 2,
       "version_minor": 0
      },
      "text/plain": [
       "sentinel2_2023_108.tif: |          | 0.00/3.72M (raw) [  0.0%] in 00:00 (eta:     ?)"
      ]
     },
     "metadata": {},
     "output_type": "display_data"
    },
    {
     "name": "stdout",
     "output_type": "stream",
     "text": [
      "Downloading 109/121: E:/test/sentinel2_2023_109.tif\n"
     ]
    },
    {
     "data": {
      "application/vnd.jupyter.widget-view+json": {
       "model_id": "8549b797159b4d38b86efbb39d42ea5d",
       "version_major": 2,
       "version_minor": 0
      },
      "text/plain": [
       "sentinel2_2023_109.tif: |          | 0.00/3.72M (raw) [  0.0%] in 00:00 (eta:     ?)"
      ]
     },
     "metadata": {},
     "output_type": "display_data"
    },
    {
     "name": "stdout",
     "output_type": "stream",
     "text": [
      "Downloading 110/121: E:/test/sentinel2_2023_110.tif\n"
     ]
    },
    {
     "data": {
      "application/vnd.jupyter.widget-view+json": {
       "model_id": "1b388e7b21a749feae36e2c87311f087",
       "version_major": 2,
       "version_minor": 0
      },
      "text/plain": [
       "sentinel2_2023_110.tif: |          | 0.00/3.73M (raw) [  0.0%] in 00:00 (eta:     ?)"
      ]
     },
     "metadata": {},
     "output_type": "display_data"
    },
    {
     "name": "stdout",
     "output_type": "stream",
     "text": [
      "Downloading 111/121: E:/test/sentinel2_2023_111.tif\n"
     ]
    },
    {
     "data": {
      "application/vnd.jupyter.widget-view+json": {
       "model_id": "28cf7ce9dcaa4112a59705481287dd07",
       "version_major": 2,
       "version_minor": 0
      },
      "text/plain": [
       "sentinel2_2023_111.tif: |          | 0.00/3.73M (raw) [  0.0%] in 00:00 (eta:     ?)"
      ]
     },
     "metadata": {},
     "output_type": "display_data"
    },
    {
     "name": "stdout",
     "output_type": "stream",
     "text": [
      "Downloading 112/121: E:/test/sentinel2_2023_112.tif\n"
     ]
    },
    {
     "data": {
      "application/vnd.jupyter.widget-view+json": {
       "model_id": "e191c596a0a64464b5d0454f23d03604",
       "version_major": 2,
       "version_minor": 0
      },
      "text/plain": [
       "sentinel2_2023_112.tif: |          | 0.00/3.72M (raw) [  0.0%] in 00:00 (eta:     ?)"
      ]
     },
     "metadata": {},
     "output_type": "display_data"
    },
    {
     "name": "stdout",
     "output_type": "stream",
     "text": [
      "Downloading 113/121: E:/test/sentinel2_2023_113.tif\n"
     ]
    },
    {
     "data": {
      "application/vnd.jupyter.widget-view+json": {
       "model_id": "c408ecc425a44e90adb66a0d30bc3c60",
       "version_major": 2,
       "version_minor": 0
      },
      "text/plain": [
       "sentinel2_2023_113.tif: |          | 0.00/3.72M (raw) [  0.0%] in 00:00 (eta:     ?)"
      ]
     },
     "metadata": {},
     "output_type": "display_data"
    },
    {
     "name": "stdout",
     "output_type": "stream",
     "text": [
      "Downloading 114/121: E:/test/sentinel2_2023_114.tif\n"
     ]
    },
    {
     "data": {
      "application/vnd.jupyter.widget-view+json": {
       "model_id": "ffa69d39d5f54d7eb8b2288914d66e94",
       "version_major": 2,
       "version_minor": 0
      },
      "text/plain": [
       "sentinel2_2023_114.tif: |          | 0.00/3.72M (raw) [  0.0%] in 00:00 (eta:     ?)"
      ]
     },
     "metadata": {},
     "output_type": "display_data"
    },
    {
     "name": "stdout",
     "output_type": "stream",
     "text": [
      "Downloading 115/121: E:/test/sentinel2_2023_115.tif\n"
     ]
    },
    {
     "data": {
      "application/vnd.jupyter.widget-view+json": {
       "model_id": "5b3d874ed4a7472b9c36d93ec1410efc",
       "version_major": 2,
       "version_minor": 0
      },
      "text/plain": [
       "sentinel2_2023_115.tif: |          | 0.00/3.72M (raw) [  0.0%] in 00:00 (eta:     ?)"
      ]
     },
     "metadata": {},
     "output_type": "display_data"
    },
    {
     "name": "stdout",
     "output_type": "stream",
     "text": [
      "Downloading 116/121: E:/test/sentinel2_2023_116.tif\n"
     ]
    },
    {
     "data": {
      "application/vnd.jupyter.widget-view+json": {
       "model_id": "0ef0d9cb141d4925be326eb0912c5156",
       "version_major": 2,
       "version_minor": 0
      },
      "text/plain": [
       "sentinel2_2023_116.tif: |          | 0.00/3.73M (raw) [  0.0%] in 00:00 (eta:     ?)"
      ]
     },
     "metadata": {},
     "output_type": "display_data"
    },
    {
     "name": "stdout",
     "output_type": "stream",
     "text": [
      "Downloading 117/121: E:/test/sentinel2_2023_117.tif\n"
     ]
    },
    {
     "data": {
      "application/vnd.jupyter.widget-view+json": {
       "model_id": "d2283ee2dcb34ed6814a0ad7cb706dbf",
       "version_major": 2,
       "version_minor": 0
      },
      "text/plain": [
       "sentinel2_2023_117.tif: |          | 0.00/3.72M (raw) [  0.0%] in 00:00 (eta:     ?)"
      ]
     },
     "metadata": {},
     "output_type": "display_data"
    },
    {
     "name": "stdout",
     "output_type": "stream",
     "text": [
      "Downloading 118/121: E:/test/sentinel2_2023_118.tif\n"
     ]
    },
    {
     "data": {
      "application/vnd.jupyter.widget-view+json": {
       "model_id": "29e28cdbbc8d496db32300336977c92e",
       "version_major": 2,
       "version_minor": 0
      },
      "text/plain": [
       "sentinel2_2023_118.tif: |          | 0.00/3.72M (raw) [  0.0%] in 00:00 (eta:     ?)"
      ]
     },
     "metadata": {},
     "output_type": "display_data"
    },
    {
     "name": "stdout",
     "output_type": "stream",
     "text": [
      "Downloading 119/121: E:/test/sentinel2_2023_119.tif\n"
     ]
    },
    {
     "data": {
      "application/vnd.jupyter.widget-view+json": {
       "model_id": "58b72f6c0c2f4ed8a34d6d5ec59c1e62",
       "version_major": 2,
       "version_minor": 0
      },
      "text/plain": [
       "sentinel2_2023_119.tif: |          | 0.00/3.72M (raw) [  0.0%] in 00:00 (eta:     ?)"
      ]
     },
     "metadata": {},
     "output_type": "display_data"
    },
    {
     "name": "stdout",
     "output_type": "stream",
     "text": [
      "Downloading 120/121: E:/test/sentinel2_2023_120.tif\n"
     ]
    },
    {
     "data": {
      "application/vnd.jupyter.widget-view+json": {
       "model_id": "aede2de0bc014c42824acfd4d17ff519",
       "version_major": 2,
       "version_minor": 0
      },
      "text/plain": [
       "sentinel2_2023_120.tif: |          | 0.00/3.72M (raw) [  0.0%] in 00:00 (eta:     ?)"
      ]
     },
     "metadata": {},
     "output_type": "display_data"
    },
    {
     "name": "stdout",
     "output_type": "stream",
     "text": [
      "Downloading 121/121: E:/test/sentinel2_2023_121.tif\n"
     ]
    },
    {
     "data": {
      "application/vnd.jupyter.widget-view+json": {
       "model_id": "31c10cc6b5354fb28381b5244927988d",
       "version_major": 2,
       "version_minor": 0
      },
      "text/plain": [
       "sentinel2_2023_121.tif: |          | 0.00/3.73M (raw) [  0.0%] in 00:00 (eta:     ?)"
      ]
     },
     "metadata": {},
     "output_type": "display_data"
    },
    {
     "name": "stdout",
     "output_type": "stream",
     "text": [
      "Downloaded 121 tiles in 6520.386600255966 seconds.\n"
     ]
    }
   ],
   "source": [
    "out_dir = 'E:/test/'\n",
    "features = geemap.fishnet(region, h_interval=0.1, v_interval=0.1, delta=1)\n",
    "geemap.download_ee_image_tiles(s2_images, features, out_dir, prefix=\"sentinel2_2023_\", crs=\"EPSG:4326\", scale=10)"
   ]
  }
 ],
 "metadata": {
  "kernelspec": {
   "display_name": "geo",
   "language": "python",
   "name": "python3"
  },
  "language_info": {
   "codemirror_mode": {
    "name": "ipython",
    "version": 3
   },
   "file_extension": ".py",
   "mimetype": "text/x-python",
   "name": "python",
   "nbconvert_exporter": "python",
   "pygments_lexer": "ipython3",
   "version": "undefined.undefined.undefined"
  }
 },
 "nbformat": 4,
 "nbformat_minor": 2
}
